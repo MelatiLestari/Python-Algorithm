{
 "cells": [
  {
   "cell_type": "code",
   "execution_count": null,
   "metadata": {},
   "outputs": [],
   "source": [
    "def qs(array):\n",
    "    if len(array) < 2:\n",
    "        return array\n",
    "    else:\n",
    "        pivot = array[0]\n",
    "        less = [i for i in array[1:] if i <= pivot]\n",
    "        greater = [i for i in array[1:] if i > pivot]   \n",
    "        \n",
    "        return [qs(less),pivot,qs(greater)]   \n",
    "\n",
    "\n",
    "\n",
    "def flatten(irregular_List):\n",
    "    for item in irregular_List:\n",
    "        try:\n",
    "            yield from flatten(item)\n",
    "        except TypeError:\n",
    "            yield item\n",
    "            \n",
    "\n",
    "def visualize(List):\n",
    "    step = 1\n",
    "    i = 0\n",
    "    while i < len(List):\n",
    "        if i == 0 :\n",
    "            print(List[i])\n",
    "            step = 1\n",
    "        \n",
    "        else:\n",
    "            try:\n",
    "                print(List[i], List[i+1] )\n",
    "                step = 2\n",
    "            except:\n",
    "                step-=1\n",
    "                print(List[i])        \n",
    "        i+=step        \n",
    "\n",
    "        \n",
    "n = int(input('n = '))\n",
    "array = []\n",
    "for i in range(n):\n",
    "    print('n ke-',i,'= ')\n",
    "    a = int(input())\n",
    "    array.append(a)     \n",
    "\n",
    "array = qs(array)\n",
    "\n",
    "array = list(flatten(array))\n",
    "array = list(set(array))\n",
    "print(array)\n",
    "        \n",
    "visualize(array)\n",
    "\n",
    "\n"
   ]
  }
 ],
 "metadata": {
  "kernelspec": {
   "display_name": "Python 3",
   "language": "python",
   "name": "python3"
  },
  "language_info": {
   "codemirror_mode": {
    "name": "ipython",
    "version": 3
   },
   "file_extension": ".py",
   "mimetype": "text/x-python",
   "name": "python",
   "nbconvert_exporter": "python",
   "pygments_lexer": "ipython3",
   "version": "3.7.1"
  }
 },
 "nbformat": 4,
 "nbformat_minor": 2
}
